{
  "nbformat": 4,
  "nbformat_minor": 0,
  "metadata": {
    "colab": {
      "provenance": [],
      "toc_visible": true,
      "authorship_tag": "ABX9TyN+wBrPfc+CUkjnp2Hv3rR2",
      "include_colab_link": true
    },
    "kernelspec": {
      "name": "python3",
      "display_name": "Python 3"
    },
    "language_info": {
      "name": "python"
    },
    "widgets": {
      "application/vnd.jupyter.widget-state+json": {
        "01ee4f51978b4b01b025ff31cc9c00a6": {
          "model_module": "@jupyter-widgets/controls",
          "model_name": "DropdownModel",
          "model_module_version": "1.5.0",
          "state": {
            "_dom_classes": [],
            "_model_module": "@jupyter-widgets/controls",
            "_model_module_version": "1.5.0",
            "_model_name": "DropdownModel",
            "_options_labels": [
              "None",
              "Bangalore City Railway Station(Majestic)",
              "Bangalore Cantonment Railway Station",
              "Yeshvantpur Junction Railway Station",
              "Krishnarajapuram Railway Station"
            ],
            "_view_count": null,
            "_view_module": "@jupyter-widgets/controls",
            "_view_module_version": "1.5.0",
            "_view_name": "DropdownView",
            "description": "Station:",
            "description_tooltip": null,
            "disabled": false,
            "index": 3,
            "layout": "IPY_MODEL_bf46ef8a75024500980096ce434aca75",
            "style": "IPY_MODEL_b58aaca9e3604bca807793582f495ae2"
          }
        },
        "bf46ef8a75024500980096ce434aca75": {
          "model_module": "@jupyter-widgets/base",
          "model_name": "LayoutModel",
          "model_module_version": "1.2.0",
          "state": {
            "_model_module": "@jupyter-widgets/base",
            "_model_module_version": "1.2.0",
            "_model_name": "LayoutModel",
            "_view_count": null,
            "_view_module": "@jupyter-widgets/base",
            "_view_module_version": "1.2.0",
            "_view_name": "LayoutView",
            "align_content": null,
            "align_items": null,
            "align_self": null,
            "border": null,
            "bottom": null,
            "display": null,
            "flex": null,
            "flex_flow": null,
            "grid_area": null,
            "grid_auto_columns": null,
            "grid_auto_flow": null,
            "grid_auto_rows": null,
            "grid_column": null,
            "grid_gap": null,
            "grid_row": null,
            "grid_template_areas": null,
            "grid_template_columns": null,
            "grid_template_rows": null,
            "height": null,
            "justify_content": null,
            "justify_items": null,
            "left": null,
            "margin": null,
            "max_height": null,
            "max_width": null,
            "min_height": null,
            "min_width": null,
            "object_fit": null,
            "object_position": null,
            "order": null,
            "overflow": null,
            "overflow_x": null,
            "overflow_y": null,
            "padding": null,
            "right": null,
            "top": null,
            "visibility": null,
            "width": null
          }
        },
        "b58aaca9e3604bca807793582f495ae2": {
          "model_module": "@jupyter-widgets/controls",
          "model_name": "DescriptionStyleModel",
          "model_module_version": "1.5.0",
          "state": {
            "_model_module": "@jupyter-widgets/controls",
            "_model_module_version": "1.5.0",
            "_model_name": "DescriptionStyleModel",
            "_view_count": null,
            "_view_module": "@jupyter-widgets/base",
            "_view_module_version": "1.2.0",
            "_view_name": "StyleView",
            "description_width": ""
          }
        }
      }
    }
  },
  "cells": [
    {
      "cell_type": "markdown",
      "metadata": {
        "id": "view-in-github",
        "colab_type": "text"
      },
      "source": [
        "<a href=\"https://colab.research.google.com/github/Amogh-SK/RailwayPlatformTicketGenerator/blob/main/PlatformTicketGenerator.ipynb\" target=\"_parent\"><img src=\"https://colab.research.google.com/assets/colab-badge.svg\" alt=\"Open In Colab\"/></a>"
      ]
    },
    {
      "cell_type": "code",
      "execution_count": 1,
      "metadata": {
        "colab": {
          "base_uri": "https://localhost:8080/"
        },
        "id": "l9rmUOw20P3i",
        "outputId": "3b740db4-d93a-4a37-962c-ec571e9687df"
      },
      "outputs": [
        {
          "output_type": "stream",
          "name": "stdout",
          "text": [
            "Collecting qrcode[pil]\n",
            "  Downloading qrcode-7.4.2-py3-none-any.whl (46 kB)\n",
            "\u001b[?25l     \u001b[90m━━━━━━━━━━━━━━━━━━━━━━━━━━━━━━━━━━━━━━━━\u001b[0m \u001b[32m0.0/46.2 kB\u001b[0m \u001b[31m?\u001b[0m eta \u001b[36m-:--:--\u001b[0m\r\u001b[2K     \u001b[91m━━━━━━━━━━━━━━━━━━━━━━━━━━━━━━━━━━━\u001b[0m\u001b[90m╺\u001b[0m\u001b[90m━━━━\u001b[0m \u001b[32m41.0/46.2 kB\u001b[0m \u001b[31m3.1 MB/s\u001b[0m eta \u001b[36m0:00:01\u001b[0m\r\u001b[2K     \u001b[90m━━━━━━━━━━━━━━━━━━━━━━━━━━━━━━━━━━━━━━━━\u001b[0m \u001b[32m46.2/46.2 kB\u001b[0m \u001b[31m680.7 kB/s\u001b[0m eta \u001b[36m0:00:00\u001b[0m\n",
            "\u001b[?25hRequirement already satisfied: typing-extensions in /usr/local/lib/python3.10/dist-packages (from qrcode[pil]) (4.5.0)\n",
            "Collecting pypng (from qrcode[pil])\n",
            "  Downloading pypng-0.20220715.0-py3-none-any.whl (58 kB)\n",
            "\u001b[?25l     \u001b[90m━━━━━━━━━━━━━━━━━━━━━━━━━━━━━━━━━━━━━━━━\u001b[0m \u001b[32m0.0/58.1 kB\u001b[0m \u001b[31m?\u001b[0m eta \u001b[36m-:--:--\u001b[0m\r\u001b[2K     \u001b[90m━━━━━━━━━━━━━━━━━━━━━━━━━━━━━━━━━━━━━━━━\u001b[0m \u001b[32m58.1/58.1 kB\u001b[0m \u001b[31m2.9 MB/s\u001b[0m eta \u001b[36m0:00:00\u001b[0m\n",
            "\u001b[?25hRequirement already satisfied: pillow>=9.1.0 in /usr/local/lib/python3.10/dist-packages (from qrcode[pil]) (9.4.0)\n",
            "Installing collected packages: pypng, qrcode\n",
            "Successfully installed pypng-0.20220715.0 qrcode-7.4.2\n"
          ]
        }
      ],
      "source": [
        "!pip install qrcode[pil]\n"
      ]
    },
    {
      "cell_type": "code",
      "source": [
        "import qrcode\n",
        "import datetime\n",
        "import uuid\n",
        "from IPython.display import Image, display\n",
        "from ipywidgets import widgets\n",
        "from datetime import datetime, timedelta\n",
        "import uuid\n",
        "from dateutil.tz import gettz"
      ],
      "metadata": {
        "id": "D7rtkZJP0Ycv"
      },
      "execution_count": 2,
      "outputs": []
    },
    {
      "cell_type": "code",
      "source": [
        "def generate_platform_ticket(user_name, station, price=20, expiration_time_hours=2):\n",
        "    ticket_id = str(uuid.uuid4())[:8]\n",
        "    current_time = datetime.now(tz=gettz('Asia/Kolkata'))\n",
        "    expiration_time = current_time + timedelta(hours=expiration_time_hours)\n",
        "\n",
        "    ticket_data = {\n",
        "        \"ticket_id\": ticket_id,\n",
        "        \"user_name\": user_name,\n",
        "        \"station\": station,\n",
        "        \"price\": price,\n",
        "        \"purchase_time\": current_time.strftime('%H:%M'),  # Format time as HH:MM\n",
        "        \"expiration_time\": expiration_time.strftime('%H:%M'),  # Format time as HH:MM\n",
        "    }\n",
        "\n",
        "    return ticket_data\n",
        "\n",
        "def generate_qr_code(ticket_data):\n",
        "    formatted_details = \"\\n\".join([f\"{key}: {value}\" for key, value in ticket_data.items()])\n",
        "    markdown_string = f\"# Platform Ticket\\n{formatted_details}\"\n",
        "    qr = qrcode.QRCode(\n",
        "        version=1,\n",
        "        error_correction=qrcode.constants.ERROR_CORRECT_L,\n",
        "        box_size=2,\n",
        "        border=4,\n",
        "    )\n",
        "    qr.add_data(formatted_details)\n",
        "    qr.make(fit=True)\n",
        "\n",
        "    qr_code_img = qr.make_image(fill_color=\"black\", back_color=\"white\")\n",
        "    qr_code_img.save(\"generated_qr.png\")  # Save QR code to a file\n",
        "    return qr_code_img\n",
        "\n",
        "def station_dropdown():\n",
        "    stations = [\"None\", \"Bangalore City Railway Station(Majestic)\", \"Bangalore Cantonment Railway Station\",\"Yeshvantpur Junction Railway Station\",\"Krishnarajapuram Railway Station\"]\n",
        "    dropdown = widgets.Dropdown(\n",
        "        options=stations,\n",
        "        value=stations[0],\n",
        "        description='Station:',\n",
        "    )\n",
        "    return dropdown\n",
        "\n",
        "def on_station_selected(change):\n",
        "    station = change['new']\n",
        "    ticket_data = generate_platform_ticket(user_name, station)\n",
        "    qr_code_img = generate_qr_code(ticket_data)\n",
        "\n",
        "    display(Image(filename=\"generated_qr.png\"))\n",
        "    print(\"Ticket ID:\", ticket_data[\"ticket_id\"])\n",
        "    print(\"User:\", ticket_data[\"user_name\"])\n",
        "    print(\"Station:\", ticket_data[\"station\"])\n",
        "    print(\"Price:\", ticket_data[\"price\"])\n",
        "    print(\"Purchase Time:\", ticket_data[\"purchase_time\"])\n",
        "    print(\"Expiration Time:\", ticket_data[\"expiration_time\"])\n",
        "\n",
        "user_name = input(\"Enter your name: \")\n",
        "print(\"Please make a paymet of rupees 20 and choose your Railway Station\")\n",
        "station_dropdown_widget = station_dropdown()\n",
        "station_dropdown_widget.observe(on_station_selected, names='value')\n",
        "display(station_dropdown_widget)\n"
      ],
      "metadata": {
        "colab": {
          "base_uri": "https://localhost:8080/",
          "height": 294,
          "referenced_widgets": [
            "01ee4f51978b4b01b025ff31cc9c00a6",
            "bf46ef8a75024500980096ce434aca75",
            "b58aaca9e3604bca807793582f495ae2"
          ]
        },
        "id": "M2hzn1NM16Hu",
        "outputId": "97f6ad3d-70b1-4696-c57b-90b641ea19d0"
      },
      "execution_count": 3,
      "outputs": [
        {
          "output_type": "stream",
          "name": "stdout",
          "text": [
            "Enter your name: Amogh SK\n",
            "Please make a paymet of rupees 20 and choose your Railway Station\n"
          ]
        },
        {
          "output_type": "display_data",
          "data": {
            "text/plain": [
              "Dropdown(description='Station:', options=('None', 'Bangalore City Railway Station(Majestic)', 'Bangalore Canto…"
            ],
            "application/vnd.jupyter.widget-view+json": {
              "version_major": 2,
              "version_minor": 0,
              "model_id": "01ee4f51978b4b01b025ff31cc9c00a6"
            }
          },
          "metadata": {}
        },
        {
          "output_type": "display_data",
          "data": {
            "image/png": "[encoded data removed]",
            "text/plain": [
              "<IPython.core.display.Image object>"
            ]
          },
          "metadata": {}
        },
        {
          "output_type": "stream",
          "name": "stdout",
          "text": [
            "Ticket ID: 9a94c66c\n",
            "User: Amogh SK\n",
            "Station: Yeshvantpur Junction Railway Station\n",
            "Price: 20\n",
            "Purchase Time: 18:50\n",
            "Expiration Time: 20:50\n"
          ]
        }
      ]
    }
  ]
}